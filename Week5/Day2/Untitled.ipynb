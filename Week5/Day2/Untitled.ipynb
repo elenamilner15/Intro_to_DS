{
 "cells": [
  {
   "cell_type": "code",
   "execution_count": 1,
   "id": "0dbe1bf5",
   "metadata": {},
   "outputs": [],
   "source": [
    "import pandas as pd"
   ]
  },
  {
   "cell_type": "code",
   "execution_count": 2,
   "id": "5bfc24df",
   "metadata": {},
   "outputs": [],
   "source": [
    "url = \"https://raw.githubusercontent.com/justmarkham/DAT8/master/data/chipotle.tsv\"\n",
    "chipo = pd.read_csv(url, sep='\\t')"
   ]
  },
  {
   "cell_type": "code",
   "execution_count": 3,
   "id": "a6193a92",
   "metadata": {},
   "outputs": [
    {
     "name": "stdout",
     "output_type": "stream",
     "text": [
      "   order_id  quantity                              item_name  \\\n",
      "0         1         1           Chips and Fresh Tomato Salsa   \n",
      "1         1         1                                   Izze   \n",
      "2         1         1                       Nantucket Nectar   \n",
      "3         1         1  Chips and Tomatillo-Green Chili Salsa   \n",
      "4         2         2                           Chicken Bowl   \n",
      "5         3         1                           Chicken Bowl   \n",
      "6         3         1                          Side of Chips   \n",
      "7         4         1                          Steak Burrito   \n",
      "8         4         1                       Steak Soft Tacos   \n",
      "9         5         1                          Steak Burrito   \n",
      "\n",
      "                                  choice_description item_price  \n",
      "0                                                NaN     $2.39   \n",
      "1                                       [Clementine]     $3.39   \n",
      "2                                            [Apple]     $3.39   \n",
      "3                                                NaN     $2.39   \n",
      "4  [Tomatillo-Red Chili Salsa (Hot), [Black Beans...    $16.98   \n",
      "5  [Fresh Tomato Salsa (Mild), [Rice, Cheese, Sou...    $10.98   \n",
      "6                                                NaN     $1.69   \n",
      "7  [Tomatillo Red Chili Salsa, [Fajita Vegetables...    $11.75   \n",
      "8  [Tomatillo Green Chili Salsa, [Pinto Beans, Ch...     $9.25   \n",
      "9  [Fresh Tomato Salsa, [Rice, Black Beans, Pinto...     $9.25   \n"
     ]
    }
   ],
   "source": [
    "print(chipo.head(10))"
   ]
  },
  {
   "cell_type": "code",
   "execution_count": 4,
   "id": "a44174e5",
   "metadata": {},
   "outputs": [
    {
     "name": "stdout",
     "output_type": "stream",
     "text": [
      "Total number of entries (rows) in 'chipo': 4622\n"
     ]
    }
   ],
   "source": [
    "total_rows = chipo.shape[0]\n",
    "print(\"Total number of entries (rows) in 'chipo':\", total_rows)"
   ]
  },
  {
   "cell_type": "code",
   "execution_count": 5,
   "id": "a8a77e7e",
   "metadata": {},
   "outputs": [
    {
     "name": "stdout",
     "output_type": "stream",
     "text": [
      "Total number of columns in 'chipo': 5\n"
     ]
    }
   ],
   "source": [
    "total_columns = chipo.shape[1]\n",
    "print(\"Total number of columns in 'chipo':\", total_columns)"
   ]
  },
  {
   "cell_type": "code",
   "execution_count": 6,
   "id": "3b58e42a",
   "metadata": {},
   "outputs": [
    {
     "name": "stdout",
     "output_type": "stream",
     "text": [
      "Column names:\n",
      "Index(['order_id', 'quantity', 'item_name', 'choice_description',\n",
      "       'item_price'],\n",
      "      dtype='object')\n"
     ]
    }
   ],
   "source": [
    "print(\"Column names:\")\n",
    "print(chipo.columns)"
   ]
  },
  {
   "cell_type": "code",
   "execution_count": 7,
   "id": "0c3d7fbb",
   "metadata": {},
   "outputs": [
    {
     "name": "stdout",
     "output_type": "stream",
     "text": [
      "\n",
      "DataFrame Index:\n",
      "RangeIndex(start=0, stop=4622, step=1)\n"
     ]
    }
   ],
   "source": [
    "print(\"\\nDataFrame Index:\")\n",
    "print(chipo.index)"
   ]
  },
  {
   "cell_type": "code",
   "execution_count": 8,
   "id": "487b14bd",
   "metadata": {},
   "outputs": [
    {
     "name": "stdout",
     "output_type": "stream",
     "text": [
      "\n",
      "Most ordered item: Chicken Bowl\n"
     ]
    }
   ],
   "source": [
    "most_ordered_item = chipo['item_name'].value_counts().idxmax()\n",
    "print(\"\\nMost ordered item:\", most_ordered_item)"
   ]
  },
  {
   "cell_type": "code",
   "execution_count": 9,
   "id": "f67b301f",
   "metadata": {},
   "outputs": [
    {
     "name": "stdout",
     "output_type": "stream",
     "text": [
      "Total number of items ordered: 4972\n"
     ]
    }
   ],
   "source": [
    "total_items_ordered = chipo['quantity'].sum()\n",
    "print(\"Total number of items ordered:\", total_items_ordered)"
   ]
  },
  {
   "cell_type": "code",
   "execution_count": 10,
   "id": "0671d291",
   "metadata": {},
   "outputs": [
    {
     "name": "stdout",
     "output_type": "stream",
     "text": [
      "\n",
      "Most ordered item (choice_description): [Diet Coke]\n"
     ]
    }
   ],
   "source": [
    "most_ordered_choice = chipo['choice_description'].value_counts().idxmax()\n",
    "print(\"\\nMost ordered item (choice_description):\", most_ordered_choice)"
   ]
  },
  {
   "cell_type": "code",
   "execution_count": 14,
   "id": "ca2598c7",
   "metadata": {},
   "outputs": [],
   "source": [
    "chipo['item_price'] = chipo['item_price'].apply(lambda x: float(x[1:]) if isinstance(x, str) else x)"
   ]
  },
  {
   "cell_type": "code",
   "execution_count": 15,
   "id": "20afcc51",
   "metadata": {},
   "outputs": [
    {
     "name": "stdout",
     "output_type": "stream",
     "text": [
      "\n",
      "First few rows after converting 'item_price' to float:\n",
      "   order_id  quantity                              item_name  \\\n",
      "0         1         1           Chips and Fresh Tomato Salsa   \n",
      "1         1         1                                   Izze   \n",
      "2         1         1                       Nantucket Nectar   \n",
      "3         1         1  Chips and Tomatillo-Green Chili Salsa   \n",
      "4         2         2                           Chicken Bowl   \n",
      "\n",
      "                                  choice_description  item_price  \n",
      "0                                                NaN        2.39  \n",
      "1                                       [Clementine]        3.39  \n",
      "2                                            [Apple]        3.39  \n",
      "3                                                NaN        2.39  \n",
      "4  [Tomatillo-Red Chili Salsa (Hot), [Black Beans...       16.98  \n"
     ]
    }
   ],
   "source": [
    "print(\"\\nFirst few rows after converting 'item_price' to float:\")\n",
    "print(chipo.head())"
   ]
  }
 ],
 "metadata": {
  "kernelspec": {
   "display_name": "Python 3 (ipykernel)",
   "language": "python",
   "name": "python3"
  },
  "language_info": {
   "codemirror_mode": {
    "name": "ipython",
    "version": 3
   },
   "file_extension": ".py",
   "mimetype": "text/x-python",
   "name": "python",
   "nbconvert_exporter": "python",
   "pygments_lexer": "ipython3",
   "version": "3.11.3"
  }
 },
 "nbformat": 4,
 "nbformat_minor": 5
}
