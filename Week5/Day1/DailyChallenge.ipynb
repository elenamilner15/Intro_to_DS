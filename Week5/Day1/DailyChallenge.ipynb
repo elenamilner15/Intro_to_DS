{
 "cells": [
  {
   "cell_type": "code",
   "execution_count": 1,
   "id": "d4c6dc97",
   "metadata": {},
   "outputs": [],
   "source": [
    "import numpy as np"
   ]
  },
  {
   "cell_type": "code",
   "execution_count": 2,
   "id": "0b451ed6",
   "metadata": {},
   "outputs": [
    {
     "name": "stdout",
     "output_type": "stream",
     "text": [
      "Original data matrix:\n",
      "[[81 37  8 98 90]\n",
      " [ 9 76 97  3 34]\n",
      " [54 31 51 27 61]\n",
      " [21 14 55 10 72]\n",
      " [57 23 64 96 31]]\n",
      "\n",
      "Data matrix with second and fourth rows swapped:\n",
      "[[81 37  8 98 90]\n",
      " [21 14 55 10 72]\n",
      " [54 31 51 27 61]\n",
      " [ 9 76 97  3 34]\n",
      " [57 23 64 96 31]]\n"
     ]
    }
   ],
   "source": [
    "data = np.array(np.random.randint(1, 100, size=25)).reshape(5, 5)\n",
    "\n",
    "print(\"Original data matrix:\")\n",
    "print(data)\n",
    "\n",
    "data[1], data[3] = data[3].copy(), data[1].copy()\n",
    "\n",
    "print(\"\\nData matrix with second and fourth rows swapped:\")\n",
    "print(data)"
   ]
  },
  {
   "cell_type": "code",
   "execution_count": 3,
   "id": "7be3665e",
   "metadata": {},
   "outputs": [
    {
     "name": "stdout",
     "output_type": "stream",
     "text": [
      "Original data matrix:\n",
      "[[20 97 34 54 68]\n",
      " [32 41 64 15 26]\n",
      " [55 56 78 39 44]\n",
      " [53 78 20 29  7]\n",
      " [38 55 39 13 64]]\n",
      "\n",
      "Normalized data matrix:\n",
      "[[0.14444444 1.         0.3        0.52222222 0.67777778]\n",
      " [0.27777778 0.37777778 0.63333333 0.08888889 0.21111111]\n",
      " [0.53333333 0.54444444 0.78888889 0.35555556 0.41111111]\n",
      " [0.51111111 0.78888889 0.14444444 0.24444444 0.        ]\n",
      " [0.34444444 0.53333333 0.35555556 0.06666667 0.63333333]]\n"
     ]
    }
   ],
   "source": [
    "data = np.array(np.random.randint(1, 100, size=25)).reshape(5, 5)\n",
    "\n",
    "\n",
    "print(\"Original data matrix:\")\n",
    "print(data)\n",
    "\n",
    "min_val = np.min(data)\n",
    "max_val = np.max(data)\n",
    "normalized_data = (data - min_val) / (max_val - min_val)\n",
    "\n",
    "print(\"\\nNormalized data matrix:\")\n",
    "print(normalized_data)"
   ]
  },
  {
   "cell_type": "code",
   "execution_count": 4,
   "id": "aa8d9be2",
   "metadata": {},
   "outputs": [
    {
     "name": "stdout",
     "output_type": "stream",
     "text": [
      "Original data matrix:\n",
      "[[55 27 72 47 63]\n",
      " [ 2 68  6 24 93]\n",
      " [50 17 77 96 28]\n",
      " [32 46 21 39 65]\n",
      " [36 49 95 98 67]]\n",
      "\n",
      "Z-score normalized data matrix:\n",
      "[[ 0.14782671 -0.86667031  0.76377132 -0.14202958  0.437683  ]\n",
      " [-1.77247121  0.61884318 -1.62754307 -0.97536642  1.52464409]\n",
      " [-0.03333347 -1.22899067  0.94493151  1.63334019 -0.83043827]\n",
      " [-0.68551013 -0.17826162 -1.08406252 -0.43188587  0.51014707]\n",
      " [-0.54058198 -0.06956551  1.59710816  1.70580427  0.58261114]]\n"
     ]
    }
   ],
   "source": [
    "data = np.array(np.random.randint(1, 100, size=25)).reshape(5, 5)\n",
    "\n",
    "print(\"Original data matrix:\")\n",
    "print(data)\n",
    "\n",
    "mean = np.mean(data)\n",
    "std = np.std(data)\n",
    "\n",
    "z_score_normalized_data = (data - mean) / std\n",
    "\n",
    "print(\"\\nZ-score normalized data matrix:\")\n",
    "print(z_score_normalized_data)"
   ]
  },
  {
   "cell_type": "code",
   "execution_count": 5,
   "id": "85748737",
   "metadata": {},
   "outputs": [
    {
     "name": "stdout",
     "output_type": "stream",
     "text": [
      "Original data matrix:\n",
      "[[27 12 59 60 30]\n",
      " [49 40 84 80 86]\n",
      " [41 15 22 13  5]\n",
      " [53 91 68 52 73]\n",
      " [95 32 91 92 56]]\n",
      "\n",
      "Sub-arrays:\n",
      "[27 12 59 60 30]\n",
      "[49 40 84 80 86]\n",
      "[41 15 22 13  5]\n",
      "[53 91 68 52 73]\n",
      "[95 32 91 92 56]\n"
     ]
    }
   ],
   "source": [
    "data = np.array(np.random.randint(1, 100, size=25)).reshape(5, 5)\n",
    "\n",
    "print(\"Original data matrix:\")\n",
    "print(data)\n",
    "\n",
    "data_vector = np.ravel(data)\n",
    "\n",
    "sub_arrays = np.array_split(data_vector, 5)\n",
    "\n",
    "print(\"\\nSub-arrays:\")\n",
    "for sub_array in sub_arrays:\n",
    "    print(sub_array)"
   ]
  },
  {
   "cell_type": "code",
   "execution_count": 6,
   "id": "3e0da170",
   "metadata": {},
   "outputs": [
    {
     "name": "stdout",
     "output_type": "stream",
     "text": [
      "Dot product: 198\n"
     ]
    }
   ],
   "source": [
    "vector1 = np.array([3, 5, 6, 7, 8])\n",
    "vector2 = np.array([2, 4, 6, 8, 10])\n",
    "\n",
    "dot_product = np.dot(vector1, vector2)\n",
    "\n",
    "print(\"Dot product:\", dot_product)"
   ]
  },
  {
   "cell_type": "code",
   "execution_count": 7,
   "id": "e35dc8f3",
   "metadata": {},
   "outputs": [
    {
     "name": "stdout",
     "output_type": "stream",
     "text": [
      "[[ 764  951 1138]\n",
      " [ 806  969 1132]\n",
      " [ 289  354  419]]\n"
     ]
    }
   ],
   "source": [
    "data = np.array(np.random.randint(1, 100, size=25)).reshape(5, 5)\n",
    "\n",
    "data2 = np.array([[2, 3, 4],\n",
    "                  [5, 6, 7],\n",
    "                  [8, 9, 10]])\n",
    "\n",
    "data_part = data[:3, :3]\n",
    "result = np.dot(data_part, data2)\n",
    "print(result)"
   ]
  },
  {
   "cell_type": "code",
   "execution_count": 8,
   "id": "86d9e169",
   "metadata": {},
   "outputs": [
    {
     "name": "stdout",
     "output_type": "stream",
     "text": [
      "[[0.5 0.  0. ]\n",
      " [0.  0.5 0. ]\n",
      " [0.  0.  0.5]]\n"
     ]
    }
   ],
   "source": [
    "identity_matrix = np.identity(3)\n",
    "\n",
    "scaled_matrix = 2 * identity_matrix\n",
    "inverse_matrix = np.linalg.inv(scaled_matrix)\n",
    "print(inverse_matrix)"
   ]
  },
  {
   "cell_type": "code",
   "execution_count": 9,
   "id": "6ce30af6",
   "metadata": {},
   "outputs": [
    {
     "name": "stdout",
     "output_type": "stream",
     "text": [
      "Original data matrix:\n",
      "[[43 48 69 71  7]\n",
      " [50 25 75 72 29]\n",
      " [73 93 95  3 93]\n",
      " [33 44 46 57 66]\n",
      " [16 54 11 97 54]]\n"
     ]
    },
    {
     "ename": "ValueError",
     "evalue": "cannot convert float NaN to integer",
     "output_type": "error",
     "traceback": [
      "\u001b[1;31m---------------------------------------------------------------------------\u001b[0m",
      "\u001b[1;31mValueError\u001b[0m                                Traceback (most recent call last)",
      "Cell \u001b[1;32mIn[9], line 6\u001b[0m\n\u001b[0;32m      3\u001b[0m \u001b[38;5;28mprint\u001b[39m(data)\n\u001b[0;32m      5\u001b[0m missing_indices \u001b[38;5;241m=\u001b[39m np\u001b[38;5;241m.\u001b[39mrandom\u001b[38;5;241m.\u001b[39mchoice(data\u001b[38;5;241m.\u001b[39msize, \u001b[38;5;241m5\u001b[39m, replace\u001b[38;5;241m=\u001b[39m\u001b[38;5;28;01mFalse\u001b[39;00m)\n\u001b[1;32m----> 6\u001b[0m data\u001b[38;5;241m.\u001b[39mravel()[missing_indices] \u001b[38;5;241m=\u001b[39m np\u001b[38;5;241m.\u001b[39mnan\n\u001b[0;32m      8\u001b[0m missing_row_indices, missing_col_indices \u001b[38;5;241m=\u001b[39m np\u001b[38;5;241m.\u001b[39munravel_index(missing_indices, data\u001b[38;5;241m.\u001b[39mshape)\n\u001b[0;32m     10\u001b[0m \u001b[38;5;28mprint\u001b[39m(\u001b[38;5;124m\"\u001b[39m\u001b[38;5;130;01m\\n\u001b[39;00m\u001b[38;5;124mIndices of missing values:\u001b[39m\u001b[38;5;124m\"\u001b[39m)\n",
      "\u001b[1;31mValueError\u001b[0m: cannot convert float NaN to integer"
     ]
    }
   ],
   "source": [
    "data = np.array(np.random.randint(1, 100, size=25)).reshape(5, 5)\n",
    "print(\"Original data matrix:\")\n",
    "print(data)\n",
    "\n",
    "missing_indices = np.random.choice(data.size, 5, replace=False)\n",
    "data.ravel()[missing_indices] = np.nan\n",
    "\n",
    "missing_row_indices, missing_col_indices = np.unravel_index(missing_indices, data.shape)\n",
    "\n",
    "print(\"\\nIndices of missing values:\")\n",
    "print(missing_row_indices, missing_col_indices)"
   ]
  },
  {
   "cell_type": "code",
   "execution_count": 10,
   "id": "15b0cefa",
   "metadata": {},
   "outputs": [
    {
     "name": "stdout",
     "output_type": "stream",
     "text": [
      "Original data matrix:\n",
      "[[55 79 50 57 96]\n",
      " [85 54 57 94 87]\n",
      " [84 97  9 28 24]\n",
      " [39 42 17 48 31]\n",
      " [ 6 90 73 16 97]]\n"
     ]
    },
    {
     "ename": "ValueError",
     "evalue": "cannot convert float NaN to integer",
     "output_type": "error",
     "traceback": [
      "\u001b[1;31m---------------------------------------------------------------------------\u001b[0m",
      "\u001b[1;31mValueError\u001b[0m                                Traceback (most recent call last)",
      "Cell \u001b[1;32mIn[10], line 7\u001b[0m\n\u001b[0;32m      4\u001b[0m \u001b[38;5;28mprint\u001b[39m(data)\n\u001b[0;32m      6\u001b[0m missing_indices \u001b[38;5;241m=\u001b[39m np\u001b[38;5;241m.\u001b[39mrandom\u001b[38;5;241m.\u001b[39mchoice(data\u001b[38;5;241m.\u001b[39msize, \u001b[38;5;241m5\u001b[39m, replace\u001b[38;5;241m=\u001b[39m\u001b[38;5;28;01mFalse\u001b[39;00m)\n\u001b[1;32m----> 7\u001b[0m data\u001b[38;5;241m.\u001b[39mravel()[missing_indices] \u001b[38;5;241m=\u001b[39m np\u001b[38;5;241m.\u001b[39mnan\n\u001b[0;32m      9\u001b[0m mean_value \u001b[38;5;241m=\u001b[39m np\u001b[38;5;241m.\u001b[39mnanmean(data)\n\u001b[0;32m     11\u001b[0m data[np\u001b[38;5;241m.\u001b[39misnan(data)] \u001b[38;5;241m=\u001b[39m mean_value\n",
      "\u001b[1;31mValueError\u001b[0m: cannot convert float NaN to integer"
     ]
    }
   ],
   "source": [
    "data = np.array(np.random.randint(1, 100, size=25)).reshape(5, 5)\n",
    "\n",
    "print(\"Original data matrix:\")\n",
    "print(data)\n",
    "\n",
    "missing_indices = np.random.choice(data.size, 5, replace=False)\n",
    "data.ravel()[missing_indices] = np.nan\n",
    "\n",
    "mean_value = np.nanmean(data)\n",
    "\n",
    "data[np.isnan(data)] = mean_value\n",
    "\n",
    "print(\"\\nData matrix with missing values replaced:\")\n",
    "print(data)"
   ]
  }
 ],
 "metadata": {
  "kernelspec": {
   "display_name": "Python 3 (ipykernel)",
   "language": "python",
   "name": "python3"
  },
  "language_info": {
   "codemirror_mode": {
    "name": "ipython",
    "version": 3
   },
   "file_extension": ".py",
   "mimetype": "text/x-python",
   "name": "python",
   "nbconvert_exporter": "python",
   "pygments_lexer": "ipython3",
   "version": "3.11.3"
  }
 },
 "nbformat": 4,
 "nbformat_minor": 5
}
